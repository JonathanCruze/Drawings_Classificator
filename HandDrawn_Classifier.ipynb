{
  "nbformat": 4,
  "nbformat_minor": 0,
  "metadata": {
    "colab": {
      "provenance": [],
      "collapsed_sections": [
        "_aPOYri5BL0h"
      ]
    },
    "kernelspec": {
      "name": "python3",
      "display_name": "Python 3"
    },
    "language_info": {
      "name": "python"
    }
  },
  "cells": [
    {
      "cell_type": "markdown",
      "source": [
        "---\n",
        "\n",
        "$$\\text{Whiteboard Implementation in a Google-Colab Enviroment }$$\n",
        "$$\\text{with a simple Handmade Pixel-Art Drawings Classificator}$$\n",
        "\n",
        "---\n",
        "\n",
        "> *- Jonathan Cruz*"
      ],
      "metadata": {
        "id": "eG9puuglNnfp"
      }
    },
    {
      "cell_type": "markdown",
      "source": [
        "---\n",
        "\n",
        "# **Packages and project functions**"
      ],
      "metadata": {
        "id": "_aPOYri5BL0h"
      }
    },
    {
      "cell_type": "code",
      "source": [
        "import os\n",
        "import random\n",
        "import numpy as np\n",
        "from PIL import Image\n",
        "import matplotlib.pyplot as plt\n",
        "from sklearn.metrics import classification_report\n",
        "from sklearn.linear_model import Perceptron\n",
        "from sklearn.model_selection import learning_curve, cross_val_score\n",
        "\n",
        "SEED = 101"
      ],
      "metadata": {
        "id": "dl2QSqkZBWTR"
      },
      "execution_count": 1,
      "outputs": []
    },
    {
      "cell_type": "code",
      "source": [
        "def plot_learning_curve(model, X, y):\n",
        "    train_sizes, train_scores, test_scores = learning_curve(model, X, y, cv=5)\n",
        "\n",
        "    train_mean = np.mean(train_scores, axis=1)\n",
        "    train_std = np.std(train_scores, axis=1)\n",
        "    test_mean = np.mean(test_scores, axis=1)\n",
        "    test_std = np.std(test_scores, axis=1)\n",
        "\n",
        "    plt.plot(train_sizes, train_mean, 'tomato', label=\"Training Accuracy\", lw=3)\n",
        "    plt.plot(train_sizes, test_mean, 'mediumslateblue', label=\"Cross-validation Accuracy\", lw=3)\n",
        "    plt.fill_between(train_sizes, train_mean - train_std, train_mean + train_std, color=\"#DDDDDD\")\n",
        "    plt.fill_between(train_sizes, test_mean - test_std, test_mean + test_std, color=\"#DDDDDD\")\n",
        "\n",
        "    plt.grid(alpha=0.4, ls='-.', color='#278642')\n",
        "    plt.gca().spines['top'].set_visible(False)\n",
        "    plt.gca().spines['right'].set_visible(False)\n",
        "    plt.gca().set_facecolor('whitesmoke')\n",
        "    plt.title(\"Perceptron: Learning curves\", fontsize=18, fontweight='bold')\n",
        "    plt.xlabel(\"Training DataSet Size\", fontsize=12)\n",
        "    plt.ylabel(\"Accuracy Score\", fontsize=12)\n",
        "    plt.legend(title='Model Performance Scores', facecolor=\"ghostwhite\", title_fontsize=\"large\", loc=4, labelcolor=['orangered','darkslateblue'])\n",
        "    plt.tight_layout()\n",
        "    plt.show()"
      ],
      "metadata": {
        "id": "Z1UZIRN3t5Nf"
      },
      "execution_count": 2,
      "outputs": []
    },
    {
      "cell_type": "code",
      "source": [
        "def read_images(folder_path):\n",
        "    X = []\n",
        "    y = []\n",
        "    for class_folder in os.listdir(folder_path):\n",
        "        class_path = os.path.join(folder_path, class_folder)\n",
        "        if os.path.isdir(class_path):\n",
        "            for image_file in os.listdir(class_path):\n",
        "                image_path = os.path.join(class_path, image_file)\n",
        "                image_array = preprocess_image(image_path)\n",
        "                image_array = image_array.flatten()\n",
        "                X.append(image_array)\n",
        "                y.append(class_folder)\n",
        "    X = np.array(X)\n",
        "    y = np.array(y)\n",
        "    return X, y"
      ],
      "metadata": {
        "id": "hv5XY4rYKfG1"
      },
      "execution_count": 3,
      "outputs": []
    },
    {
      "cell_type": "code",
      "source": [
        "def preprocess_image(image_path, target_size=(15, 15)):\n",
        "    image = Image.open(image_path).convert('L')  # Convert image to grayscale\n",
        "    image = image.resize(target_size)  # Resize the image to the target size\n",
        "    image_array = np.array(image)  # Convert the image to a numpy array\n",
        "    image_array = image_array.flatten().reshape(1, -1) # Flatten the 2D array into a 1D array\n",
        "    return image_array"
      ],
      "metadata": {
        "id": "TxSLGmJfKV3g"
      },
      "execution_count": 4,
      "outputs": []
    },
    {
      "cell_type": "code",
      "source": [
        "# @title Display WhiteBoard Code\n",
        "js_code = '''\n",
        "const canvasSize = 15; // Adjust the pixels shape of the displayed whiteboard\n",
        "const scalingFactor = 200; // Adjust the scaling factor (bigger for smaller pixels)\n",
        "\n",
        "// Display canvasSize value\n",
        "const outputText = document.createTextNode('Canvas size is: ' + canvasSize + 'x' + canvasSize + ' pixels.');\n",
        "document.querySelector(\"#output-area\").appendChild(outputText);\n",
        "\n",
        "const cellSize = Math.floor(scalingFactor / canvasSize);\n",
        "const container = document.createElement('div');\n",
        "container.style.display = 'flex';\n",
        "container.style.alignItems = 'center';\n",
        "container.style.flexDirection = 'row';\n",
        "container.style.marginLeft = '-5px'; // Ignore display frame\n",
        "\n",
        "const table = document.createElement('table');\n",
        "table.style.borderCollapse = 'collapse';\n",
        "table.style.backgroundColor = 'white';\n",
        "table.style.cursor = 'crosshair';\n",
        "table.style.border = `5px solid lightgray`;\n",
        "\n",
        "let isDrawing = false;\n",
        "let selectedPixel = null;\n",
        "\n",
        "function handleMouseClick(event) {\n",
        "  const cell = event.target;\n",
        "  if (cell.tagName === 'TD' && event.button === 0) {\n",
        "    cell.style.backgroundColor = 'black';\n",
        "  } else if (cell.tagName === 'TD' && event.button === 2) {\n",
        "    const currentColor = cell.style.backgroundColor.toLowerCase();\n",
        "    if (currentColor === 'black') {\n",
        "      cell.style.backgroundColor = 'white';\n",
        "    }\n",
        "  }\n",
        "}\n",
        "\n",
        "function handleMouseMove(event) {\n",
        "  const cell = event.target;\n",
        "  if (cell.tagName === 'TD') {\n",
        "    if (selectedPixel) {\n",
        "      selectedPixel.style.outline = '';\n",
        "    }\n",
        "    selectedPixel = cell;\n",
        "    selectedPixel.style.outline = '1px solid gray';\n",
        "\n",
        "    if (isDrawing && (event.buttons === 1 || event.buttons === 2)) {\n",
        "      const color = event.buttons === 1 ? 'black' : 'white';\n",
        "      cell.style.backgroundColor = color;\n",
        "    }\n",
        "  }\n",
        "}\n",
        "\n",
        "function handleMouseDown(event) {\n",
        "  event.preventDefault(); // Prevent content selection\n",
        "  if (event.button === 0 || event.button === 2) {\n",
        "    isDrawing = true;\n",
        "  }\n",
        "}\n",
        "\n",
        "function handleMouseUp() {\n",
        "  isDrawing = false;\n",
        "}\n",
        "\n",
        "function saveDrawing() {\n",
        "  const canvas = document.createElement('canvas');\n",
        "  canvas.width = canvasSize;\n",
        "  canvas.height = canvasSize;\n",
        "\n",
        "  const ctx = canvas.getContext('2d');\n",
        "  const cells = document.querySelectorAll('td');\n",
        "  cells.forEach((cell, index) => {\n",
        "    const row = Math.floor(index / canvasSize);\n",
        "    const col = index % canvasSize;\n",
        "    const color = cell.style.backgroundColor.toLowerCase();\n",
        "\n",
        "    // Convert white to black and black to white\n",
        "    const newColor = color === 'black' ? 'white' : 'black';\n",
        "\n",
        "    ctx.fillStyle = newColor;\n",
        "    ctx.fillRect(col, row, 1, 1);\n",
        "  });\n",
        "\n",
        "  const downloadLink = document.createElement('a');\n",
        "  downloadLink.href = canvas.toDataURL('image/png');\n",
        "  downloadLink.download = 'drawing.png';\n",
        "  downloadLink.click();\n",
        "}\n",
        "\n",
        "function deleteDrawing() {\n",
        "  const cells = document.querySelectorAll('td');\n",
        "  cells.forEach(cell => {\n",
        "    cell.style.backgroundColor = 'white';\n",
        "  });\n",
        "}\n",
        "\n",
        "function handleContextMenu(event) {\n",
        "  event.preventDefault();\n",
        "}\n",
        "\n",
        "for (let row = 0; row < canvasSize; row++) {\n",
        "  const tr = document.createElement('tr');\n",
        "  for (let col = 0; col < canvasSize; col++) {\n",
        "    const td = document.createElement('td');\n",
        "    td.style.width = cellSize + 'px';\n",
        "    td.style.height = cellSize + 'px';\n",
        "    td.style.backgroundColor = 'white';\n",
        "\n",
        "    td.addEventListener('mousedown', handleMouseClick);\n",
        "    td.addEventListener('mouseenter', handleMouseMove);\n",
        "    td.addEventListener('mouseleave', () => {\n",
        "      td.style.outline = '';\n",
        "    });\n",
        "\n",
        "    tr.appendChild(td);\n",
        "  }\n",
        "  table.appendChild(tr);\n",
        "}\n",
        "\n",
        "container.appendChild(table);\n",
        "\n",
        "const buttonsContainer = document.createElement('div');\n",
        "buttonsContainer.style.display = 'flex';\n",
        "buttonsContainer.style.flexDirection = 'column';\n",
        "buttonsContainer.style.marginLeft = '20px';\n",
        "\n",
        "const saveButton = document.createElement('button');\n",
        "saveButton.textContent = 'Save Drawing';\n",
        "saveButton.style.marginBottom = '10px';\n",
        "saveButton.style.padding = '8px 16px';\n",
        "saveButton.addEventListener('click', saveDrawing);\n",
        "buttonsContainer.appendChild(saveButton);\n",
        "\n",
        "const deleteButton = document.createElement('button');\n",
        "deleteButton.textContent = 'Delete Drawing';\n",
        "deleteButton.style.padding = '8px 16px';\n",
        "deleteButton.addEventListener('click', deleteDrawing);\n",
        "buttonsContainer.appendChild(deleteButton);\n",
        "\n",
        "container.appendChild(buttonsContainer);\n",
        "document.body.appendChild(container);\n",
        "\n",
        "const style = document.createElement('style');\n",
        "style.textContent = `\n",
        "  td {\n",
        "    border: none;\n",
        "    outline: none;\n",
        "  }\n",
        "`;\n",
        "document.head.appendChild(style);\n",
        "\n",
        "table.addEventListener('mousemove', handleMouseMove);\n",
        "table.addEventListener('mousedown', handleMouseDown);\n",
        "table.addEventListener('mouseup', handleMouseUp);\n",
        "table.addEventListener('contextmenu', handleContextMenu);\n",
        "\n",
        "'''\n",
        "\n",
        "import IPython\n",
        "WhiteBoard = IPython.display.Javascript(js_code)"
      ],
      "metadata": {
        "cellView": "form",
        "id": "kdhx3Wjb9Sax"
      },
      "execution_count": 5,
      "outputs": []
    },
    {
      "cell_type": "code",
      "source": [
        "!git clone https://github.com/JonathanCruze/Drawings_Classificator.git\n",
        "data_folder_from_git = '/content/Drawings_Classificator/images'"
      ],
      "metadata": {
        "colab": {
          "base_uri": "https://localhost:8080/"
        },
        "id": "69STTw0ENa2O",
        "outputId": "d056d6ad-6cc2-4b9e-c0e1-af17d870796e"
      },
      "execution_count": 6,
      "outputs": [
        {
          "output_type": "stream",
          "name": "stdout",
          "text": [
            "fatal: destination path 'Drawings_Classificator' already exists and is not an empty directory.\n"
          ]
        }
      ]
    },
    {
      "cell_type": "markdown",
      "source": [
        "If you want to compare the performance of the model VS digits dataset you can use this code here:\n",
        "\n",
        "> ```python\n",
        "> from sklearn.datasets import load_digits\n",
        "> # Load the digits dataset\n",
        "> digits = load_digits()\n",
        "> X, y = digits.data, digits.target\n",
        "> ```\n",
        "\n"
      ],
      "metadata": {
        "id": "xO-cxaNqWDJH"
      }
    },
    {
      "cell_type": "markdown",
      "source": [
        "---\n",
        "\n",
        "# **Perceptron model implementation**\n",
        "\n",
        "> Read the data dowloaded from the [Git-Hub Repository](https://github.com/JonathanCruze/Drawings_Classificator)"
      ],
      "metadata": {
        "id": "3SJH4rm9LfOL"
      }
    },
    {
      "cell_type": "code",
      "source": [
        "# Load the handwritten drawings training dataset\n",
        "X, y = read_images(data_folder_from_git)"
      ],
      "metadata": {
        "id": "AG2POfuJA2Om"
      },
      "execution_count": 7,
      "outputs": []
    },
    {
      "cell_type": "code",
      "source": [
        "from sklearn.model_selection import train_test_split\n",
        "\n",
        "# Split the data into training and test sets\n",
        "X_train, X_test, y_train, y_test = train_test_split(X, y, test_size=0.3, random_state=SEED)"
      ],
      "metadata": {
        "id": "u-LbUzXomG68"
      },
      "execution_count": 8,
      "outputs": []
    },
    {
      "cell_type": "code",
      "source": [
        "# @title General data info\n",
        "img_size = int(np.sqrt(X_train.shape[1]))\n",
        "num_classes = len(np.unique(y_train))\n",
        "num_channels = X_train.shape[3] if X_train.ndim == 4 else 1\n",
        "input_shape = X_train.shape[1:]\n",
        "\n",
        "print(f\"Images are: {img_size}x{img_size} pixels.\")\n",
        "print(f\"Number of channels: {num_channels}\")\n",
        "print(f\"Input shape: {input_shape}\")\n",
        "print(f\"There are {num_classes} distinct classes in the dataset.\")\n",
        "print(f\"Training data has {y_train.shape[0]} samples.\")\n",
        "print(f\"Test data has {y_test.shape[0]} samples.\")"
      ],
      "metadata": {
        "colab": {
          "base_uri": "https://localhost:8080/"
        },
        "id": "qjQSgENxTEgN",
        "outputId": "1fad4674-1074-4a45-ff20-07d8e1dffdf2",
        "cellView": "form"
      },
      "execution_count": 9,
      "outputs": [
        {
          "output_type": "stream",
          "name": "stdout",
          "text": [
            "Images are: 15x15 pixels.\n",
            "Number of channels: 1\n",
            "Input shape: (225,)\n",
            "There are 4 distinct classes in the dataset.\n",
            "Training data has 114 samples.\n",
            "Test data has 50 samples.\n"
          ]
        }
      ]
    },
    {
      "cell_type": "code",
      "source": [
        "# @title **Train the model**\n",
        "clf = Perceptron(random_state=SEED)  # Create a perceptron instance\n",
        "clf.fit(X_train, y_train)  # Fit train data to model"
      ],
      "metadata": {
        "colab": {
          "base_uri": "https://localhost:8080/",
          "height": 74
        },
        "id": "vqGONyHfOgrF",
        "outputId": "be8ce5b7-bf77-477b-bd54-1bd6e3bcde95"
      },
      "execution_count": 10,
      "outputs": [
        {
          "output_type": "execute_result",
          "data": {
            "text/plain": [
              "Perceptron(random_state=101)"
            ],
            "text/html": [
              "<style>#sk-container-id-1 {color: black;background-color: white;}#sk-container-id-1 pre{padding: 0;}#sk-container-id-1 div.sk-toggleable {background-color: white;}#sk-container-id-1 label.sk-toggleable__label {cursor: pointer;display: block;width: 100%;margin-bottom: 0;padding: 0.3em;box-sizing: border-box;text-align: center;}#sk-container-id-1 label.sk-toggleable__label-arrow:before {content: \"▸\";float: left;margin-right: 0.25em;color: #696969;}#sk-container-id-1 label.sk-toggleable__label-arrow:hover:before {color: black;}#sk-container-id-1 div.sk-estimator:hover label.sk-toggleable__label-arrow:before {color: black;}#sk-container-id-1 div.sk-toggleable__content {max-height: 0;max-width: 0;overflow: hidden;text-align: left;background-color: #f0f8ff;}#sk-container-id-1 div.sk-toggleable__content pre {margin: 0.2em;color: black;border-radius: 0.25em;background-color: #f0f8ff;}#sk-container-id-1 input.sk-toggleable__control:checked~div.sk-toggleable__content {max-height: 200px;max-width: 100%;overflow: auto;}#sk-container-id-1 input.sk-toggleable__control:checked~label.sk-toggleable__label-arrow:before {content: \"▾\";}#sk-container-id-1 div.sk-estimator input.sk-toggleable__control:checked~label.sk-toggleable__label {background-color: #d4ebff;}#sk-container-id-1 div.sk-label input.sk-toggleable__control:checked~label.sk-toggleable__label {background-color: #d4ebff;}#sk-container-id-1 input.sk-hidden--visually {border: 0;clip: rect(1px 1px 1px 1px);clip: rect(1px, 1px, 1px, 1px);height: 1px;margin: -1px;overflow: hidden;padding: 0;position: absolute;width: 1px;}#sk-container-id-1 div.sk-estimator {font-family: monospace;background-color: #f0f8ff;border: 1px dotted black;border-radius: 0.25em;box-sizing: border-box;margin-bottom: 0.5em;}#sk-container-id-1 div.sk-estimator:hover {background-color: #d4ebff;}#sk-container-id-1 div.sk-parallel-item::after {content: \"\";width: 100%;border-bottom: 1px solid gray;flex-grow: 1;}#sk-container-id-1 div.sk-label:hover label.sk-toggleable__label {background-color: #d4ebff;}#sk-container-id-1 div.sk-serial::before {content: \"\";position: absolute;border-left: 1px solid gray;box-sizing: border-box;top: 0;bottom: 0;left: 50%;z-index: 0;}#sk-container-id-1 div.sk-serial {display: flex;flex-direction: column;align-items: center;background-color: white;padding-right: 0.2em;padding-left: 0.2em;position: relative;}#sk-container-id-1 div.sk-item {position: relative;z-index: 1;}#sk-container-id-1 div.sk-parallel {display: flex;align-items: stretch;justify-content: center;background-color: white;position: relative;}#sk-container-id-1 div.sk-item::before, #sk-container-id-1 div.sk-parallel-item::before {content: \"\";position: absolute;border-left: 1px solid gray;box-sizing: border-box;top: 0;bottom: 0;left: 50%;z-index: -1;}#sk-container-id-1 div.sk-parallel-item {display: flex;flex-direction: column;z-index: 1;position: relative;background-color: white;}#sk-container-id-1 div.sk-parallel-item:first-child::after {align-self: flex-end;width: 50%;}#sk-container-id-1 div.sk-parallel-item:last-child::after {align-self: flex-start;width: 50%;}#sk-container-id-1 div.sk-parallel-item:only-child::after {width: 0;}#sk-container-id-1 div.sk-dashed-wrapped {border: 1px dashed gray;margin: 0 0.4em 0.5em 0.4em;box-sizing: border-box;padding-bottom: 0.4em;background-color: white;}#sk-container-id-1 div.sk-label label {font-family: monospace;font-weight: bold;display: inline-block;line-height: 1.2em;}#sk-container-id-1 div.sk-label-container {text-align: center;}#sk-container-id-1 div.sk-container {/* jupyter's `normalize.less` sets `[hidden] { display: none; }` but bootstrap.min.css set `[hidden] { display: none !important; }` so we also need the `!important` here to be able to override the default hidden behavior on the sphinx rendered scikit-learn.org. See: https://github.com/scikit-learn/scikit-learn/issues/21755 */display: inline-block !important;position: relative;}#sk-container-id-1 div.sk-text-repr-fallback {display: none;}</style><div id=\"sk-container-id-1\" class=\"sk-top-container\"><div class=\"sk-text-repr-fallback\"><pre>Perceptron(random_state=101)</pre><b>In a Jupyter environment, please rerun this cell to show the HTML representation or trust the notebook. <br />On GitHub, the HTML representation is unable to render, please try loading this page with nbviewer.org.</b></div><div class=\"sk-container\" hidden><div class=\"sk-item\"><div class=\"sk-estimator sk-toggleable\"><input class=\"sk-toggleable__control sk-hidden--visually\" id=\"sk-estimator-id-1\" type=\"checkbox\" checked><label for=\"sk-estimator-id-1\" class=\"sk-toggleable__label sk-toggleable__label-arrow\">Perceptron</label><div class=\"sk-toggleable__content\"><pre>Perceptron(random_state=101)</pre></div></div></div></div></div>"
            ]
          },
          "metadata": {},
          "execution_count": 10
        }
      ]
    },
    {
      "cell_type": "code",
      "source": [
        "# @title **Make inferences on Test dataset**\n",
        "#@markdown <- [Please! Click on the play button to proceed]\n",
        "\n",
        "#@markdown Select a random samples from the test dataset and view predicted vs real values\n",
        "random.seed(1)\n",
        "sample_indices = random.sample(range(len(y_test)), k=5)\n",
        "y_pred = clf.predict(X_test)\n",
        "# Plot the selected samples\n",
        "fig, axs = plt.subplots(1, len(sample_indices), figsize=(12, 3), facecolor='darkgray')\n",
        "\n",
        "for i, index in enumerate(sample_indices):\n",
        "    # Display the image\n",
        "    axs[i].imshow(X_test[index].reshape(img_size, img_size), cmap='gray')\n",
        "\n",
        "    # Set the title to the true label and predicted label\n",
        "    true_label = y_test[index]\n",
        "    predicted_label = y_pred[index]\n",
        "    title = \"True: {}\\nPredicted: {}\".format(true_label, predicted_label)\n",
        "    if true_label == predicted_label:\n",
        "        axs[i].set_title(title, color='darkgreen')\n",
        "    else:\n",
        "        axs[i].set_title(title, color='darkred')\n",
        "\n",
        "    # Remove the axis ticks\n",
        "    axs[i].axis('off')\n",
        "\n",
        "# Adjust the spacing between subplots\n",
        "plt.tight_layout()\n",
        "\n",
        "# Show the plot\n",
        "plt.show()\n"
      ],
      "metadata": {
        "colab": {
          "base_uri": "https://localhost:8080/",
          "height": 302
        },
        "cellView": "form",
        "id": "7WEngJAomXhC",
        "outputId": "4cdbc4f3-ac95-4c1e-ce8a-66ce2795b8bf"
      },
      "execution_count": 11,
      "outputs": [
        {
          "output_type": "display_data",
          "data": {
            "text/plain": [
              "<Figure size 1200x300 with 5 Axes>"
            ],
            "image/png": "[encoded data removed]"
          },
          "metadata": {}
        }
      ]
    },
    {
      "cell_type": "markdown",
      "source": [
        "## **Visualize performance to asses overfitting**"
      ],
      "metadata": {
        "id": "htGhehLkWYPX"
      }
    },
    {
      "cell_type": "code",
      "source": [
        "# Compute cross-validation scores and mean accuracy\n",
        "average_accuracy = np.mean(cvs := cross_val_score(clf, X, y, cv=5, scoring='accuracy'))\n",
        "formatted_cv_scores = '\\n'.join([f\"  > Fold {i+1} - Accuracy: {score:.4f}\" for i, score in enumerate(cvs)])\n",
        "print(f\"{formatted_cv_scores}\\nAverage Accuracy = {average_accuracy:.4f}\")"
      ],
      "metadata": {
        "colab": {
          "base_uri": "https://localhost:8080/"
        },
        "id": "p5Icdppn7XMq",
        "outputId": "a67145f5-6bcf-449a-889a-f287a2b51396"
      },
      "execution_count": 12,
      "outputs": [
        {
          "output_type": "stream",
          "name": "stdout",
          "text": [
            "  > Fold 1 - Accuracy: 0.8485\n",
            "  > Fold 2 - Accuracy: 0.8788\n",
            "  > Fold 3 - Accuracy: 0.8485\n",
            "  > Fold 4 - Accuracy: 0.8788\n",
            "  > Fold 5 - Accuracy: 0.9688\n",
            "Average Accuracy = 0.8847\n"
          ]
        }
      ]
    },
    {
      "cell_type": "code",
      "source": [
        "plot_learning_curve(clf, X_train, y_train)"
      ],
      "metadata": {
        "colab": {
          "base_uri": "https://localhost:8080/",
          "height": 487
        },
        "id": "tQuHyv9P9uy8",
        "outputId": "ec179348-1e65-4f2b-c216-4cc6be3b6a46"
      },
      "execution_count": 13,
      "outputs": [
        {
          "output_type": "display_data",
          "data": {
            "text/plain": [
              "<Figure size 640x480 with 1 Axes>"
            ],
            "image/png": "[encoded data removed]"
          },
          "metadata": {}
        }
      ]
    },
    {
      "cell_type": "code",
      "source": [
        "# Evaluate accuracies scores\n",
        "train_accuracy, test_accuracy = round(clf.score(X_train, y_train), 3), round(clf.score(X_test, y_test), 3)\n",
        "print(f\"> Training Accuracy: {train_accuracy}\\n> Testing Accuracy: {test_accuracy}\")"
      ],
      "metadata": {
        "colab": {
          "base_uri": "https://localhost:8080/"
        },
        "id": "vIFeRWN8_vpM",
        "outputId": "fadcbd95-1236-4366-f793-6bbc9be07c89"
      },
      "execution_count": 14,
      "outputs": [
        {
          "output_type": "stream",
          "name": "stdout",
          "text": [
            "> Training Accuracy: 1.0\n",
            "> Testing Accuracy: 0.84\n"
          ]
        }
      ]
    },
    {
      "cell_type": "code",
      "source": [
        "print(classification_report(y_test, clf.predict(X_test)))"
      ],
      "metadata": {
        "colab": {
          "base_uri": "https://localhost:8080/"
        },
        "id": "9UrsNjBcLZhX",
        "outputId": "9dcecf3f-9889-45ef-e93a-faa1ed7c6e96"
      },
      "execution_count": 15,
      "outputs": [
        {
          "output_type": "stream",
          "name": "stdout",
          "text": [
            "              precision    recall  f1-score   support\n",
            "\n",
            "        Face       0.82      0.82      0.82        11\n",
            "       House       1.00      0.50      0.67        10\n",
            "        Love       0.91      0.91      0.91        11\n",
            "       Sword       0.78      1.00      0.88        18\n",
            "\n",
            "    accuracy                           0.84        50\n",
            "   macro avg       0.88      0.81      0.82        50\n",
            "weighted avg       0.86      0.84      0.83        50\n",
            "\n"
          ]
        }
      ]
    },
    {
      "cell_type": "markdown",
      "source": [
        "---\n",
        "---\n",
        "\n",
        "# Make up your own data and test my model\n",
        "\n",
        "> **How to use:**\n",
        "1. Draw anything on the WhiteBoard.\n",
        "2. Save/download your drawing by clicking the button provided.\n",
        "3. Upload your photo in the last cell of the notebook\n",
        "4. Check if the prediction is accurate to your expectations."
      ],
      "metadata": {
        "id": "MdPcqTeKBSad"
      }
    },
    {
      "cell_type": "code",
      "source": [
        "#@title Draw your image\n",
        "#@markdown ### <- **[Please! Click on the play button to run the code]**\n",
        "\n",
        "#@markdown > Draw anything you like, current trained classes are `Human face`, `House`, `Sword` and `Heart icon`.\n",
        "#@markdown > But you can try drawing whatever you want and see what does the model thinks it is.\n",
        "\n",
        "display(WhiteBoard)\n"
      ],
      "metadata": {
        "colab": {
          "base_uri": "https://localhost:8080/",
          "height": 268
        },
        "cellView": "form",
        "id": "0DIQNROIrPbL",
        "outputId": "df3baf7c-9bfd-46d8-9853-1f9d8773a6be"
      },
      "execution_count": 16,
      "outputs": [
        {
          "output_type": "display_data",
          "data": {
            "text/plain": [
              "<IPython.core.display.Javascript object>"
            ],
            "application/javascript": [
              "\n",
              "const canvasSize = 15; // Adjust the pixels shape of the displayed whiteboard\n",
              "const scalingFactor = 200; // Adjust the scaling factor (bigger for smaller pixels)\n",
              "\n",
              "// Display canvasSize value\n",
              "const outputText = document.createTextNode('Canvas size is: ' + canvasSize + 'x' + canvasSize + ' pixels.');\n",
              "document.querySelector(\"#output-area\").appendChild(outputText);\n",
              "\n",
              "const cellSize = Math.floor(scalingFactor / canvasSize);\n",
              "const container = document.createElement('div');\n",
              "container.style.display = 'flex';\n",
              "container.style.alignItems = 'center';\n",
              "container.style.flexDirection = 'row';\n",
              "container.style.marginLeft = '-5px'; // Ignore display frame\n",
              "\n",
              "const table = document.createElement('table');\n",
              "table.style.borderCollapse = 'collapse';\n",
              "table.style.backgroundColor = 'white';\n",
              "table.style.cursor = 'crosshair';\n",
              "table.style.border = `5px solid lightgray`;\n",
              "\n",
              "let isDrawing = false;\n",
              "let selectedPixel = null;\n",
              "\n",
              "function handleMouseClick(event) {\n",
              "  const cell = event.target;\n",
              "  if (cell.tagName === 'TD' && event.button === 0) {\n",
              "    cell.style.backgroundColor = 'black';\n",
              "  } else if (cell.tagName === 'TD' && event.button === 2) {\n",
              "    const currentColor = cell.style.backgroundColor.toLowerCase();\n",
              "    if (currentColor === 'black') {\n",
              "      cell.style.backgroundColor = 'white';\n",
              "    }\n",
              "  }\n",
              "}\n",
              "\n",
              "function handleMouseMove(event) {\n",
              "  const cell = event.target;\n",
              "  if (cell.tagName === 'TD') {\n",
              "    if (selectedPixel) {\n",
              "      selectedPixel.style.outline = '';\n",
              "    }\n",
              "    selectedPixel = cell;\n",
              "    selectedPixel.style.outline = '1px solid gray';\n",
              "\n",
              "    if (isDrawing && (event.buttons === 1 || event.buttons === 2)) {\n",
              "      const color = event.buttons === 1 ? 'black' : 'white';\n",
              "      cell.style.backgroundColor = color;\n",
              "    }\n",
              "  }\n",
              "}\n",
              "\n",
              "function handleMouseDown(event) {\n",
              "  event.preventDefault(); // Prevent content selection\n",
              "  if (event.button === 0 || event.button === 2) {\n",
              "    isDrawing = true;\n",
              "  }\n",
              "}\n",
              "\n",
              "function handleMouseUp() {\n",
              "  isDrawing = false;\n",
              "}\n",
              "\n",
              "function saveDrawing() {\n",
              "  const canvas = document.createElement('canvas');\n",
              "  canvas.width = canvasSize;\n",
              "  canvas.height = canvasSize;\n",
              "\n",
              "  const ctx = canvas.getContext('2d');\n",
              "  const cells = document.querySelectorAll('td');\n",
              "  cells.forEach((cell, index) => {\n",
              "    const row = Math.floor(index / canvasSize);\n",
              "    const col = index % canvasSize;\n",
              "    const color = cell.style.backgroundColor.toLowerCase();\n",
              "\n",
              "    // Convert white to black and black to white\n",
              "    const newColor = color === 'black' ? 'white' : 'black';\n",
              "\n",
              "    ctx.fillStyle = newColor;\n",
              "    ctx.fillRect(col, row, 1, 1);\n",
              "  });\n",
              "\n",
              "  const downloadLink = document.createElement('a');\n",
              "  downloadLink.href = canvas.toDataURL('image/png');\n",
              "  downloadLink.download = 'drawing.png';\n",
              "  downloadLink.click();\n",
              "}\n",
              "\n",
              "function deleteDrawing() {\n",
              "  const cells = document.querySelectorAll('td');\n",
              "  cells.forEach(cell => {\n",
              "    cell.style.backgroundColor = 'white';\n",
              "  });\n",
              "}\n",
              "\n",
              "function handleContextMenu(event) {\n",
              "  event.preventDefault();\n",
              "}\n",
              "\n",
              "for (let row = 0; row < canvasSize; row++) {\n",
              "  const tr = document.createElement('tr');\n",
              "  for (let col = 0; col < canvasSize; col++) {\n",
              "    const td = document.createElement('td');\n",
              "    td.style.width = cellSize + 'px';\n",
              "    td.style.height = cellSize + 'px';\n",
              "    td.style.backgroundColor = 'white';\n",
              "\n",
              "    td.addEventListener('mousedown', handleMouseClick);\n",
              "    td.addEventListener('mouseenter', handleMouseMove);\n",
              "    td.addEventListener('mouseleave', () => {\n",
              "      td.style.outline = '';\n",
              "    });\n",
              "\n",
              "    tr.appendChild(td);\n",
              "  }\n",
              "  table.appendChild(tr);\n",
              "}\n",
              "\n",
              "container.appendChild(table);\n",
              "\n",
              "const buttonsContainer = document.createElement('div');\n",
              "buttonsContainer.style.display = 'flex';\n",
              "buttonsContainer.style.flexDirection = 'column';\n",
              "buttonsContainer.style.marginLeft = '20px';\n",
              "\n",
              "const saveButton = document.createElement('button');\n",
              "saveButton.textContent = 'Save Drawing';\n",
              "saveButton.style.marginBottom = '10px';\n",
              "saveButton.style.padding = '8px 16px';\n",
              "saveButton.addEventListener('click', saveDrawing);\n",
              "buttonsContainer.appendChild(saveButton);\n",
              "\n",
              "const deleteButton = document.createElement('button');\n",
              "deleteButton.textContent = 'Delete Drawing';\n",
              "deleteButton.style.padding = '8px 16px';\n",
              "deleteButton.addEventListener('click', deleteDrawing);\n",
              "buttonsContainer.appendChild(deleteButton);\n",
              "\n",
              "container.appendChild(buttonsContainer);\n",
              "document.body.appendChild(container);\n",
              "\n",
              "const style = document.createElement('style');\n",
              "style.textContent = `\n",
              "  td {\n",
              "    border: none;\n",
              "    outline: none;\n",
              "  }\n",
              "`;\n",
              "document.head.appendChild(style);\n",
              "\n",
              "table.addEventListener('mousemove', handleMouseMove);\n",
              "table.addEventListener('mousedown', handleMouseDown);\n",
              "table.addEventListener('mouseup', handleMouseUp);\n",
              "table.addEventListener('contextmenu', handleContextMenu);\n",
              "\n"
            ]
          },
          "metadata": {}
        }
      ]
    },
    {
      "cell_type": "code",
      "source": [
        "#@title Upload your image/s\n",
        "#@markdown ### <-**[Please! Click on the play button to run the code]**\n",
        "#@markdown - Select the image/s you want to analyze for prediction.\n",
        "from google.colab import files\n",
        "\n",
        "uploaded = files.upload()\n",
        "num_images = len(uploaded)\n",
        "\n",
        "for i, filename in enumerate(uploaded.keys()):\n",
        "    img_path = '/content/' + filename\n",
        "\n",
        "    drawn_image = preprocess_image(img_path)\n",
        "    prediction = clf.predict(drawn_image)\n",
        "    print(\"-\" * 30)\n",
        "    print(f\"> Image {i + 1} of {num_images} - Prediction: {prediction}\")\n"
      ],
      "metadata": {
        "colab": {
          "base_uri": "https://localhost:8080/",
          "height": 109
        },
        "cellView": "form",
        "id": "gbPO4awquVaF",
        "outputId": "8c12bf21-20b6-4f68-a1b7-f1f70ed6648e"
      },
      "execution_count": 17,
      "outputs": [
        {
          "output_type": "display_data",
          "data": {
            "text/plain": [
              "<IPython.core.display.HTML object>"
            ],
            "text/html": [
              "\n",
              "     <input type=\"file\" id=\"files-acc57746-f385-4a67-a56a-18be821236f0\" name=\"files[]\" multiple disabled\n",
              "        style=\"border:none\" />\n",
              "     <output id=\"result-acc57746-f385-4a67-a56a-18be821236f0\">\n",
              "      Upload widget is only available when the cell has been executed in the\n",
              "      current browser session. Please rerun this cell to enable.\n",
              "      </output>\n",
              "      <script>// Copyright 2017 Google LLC\n",
              "//\n",
              "// Licensed under the Apache License, Version 2.0 (the \"License\");\n",
              "// you may not use this file except in compliance with the License.\n",
              "// You may obtain a copy of the License at\n",
              "//\n",
              "//      http://www.apache.org/licenses/LICENSE-2.0\n",
              "//\n",
              "// Unless required by applicable law or agreed to in writing, software\n",
              "// distributed under the License is distributed on an \"AS IS\" BASIS,\n",
              "// WITHOUT WARRANTIES OR CONDITIONS OF ANY KIND, either express or implied.\n",
              "// See the License for the specific language governing permissions and\n",
              "// limitations under the License.\n",
              "\n",
              "/**\n",
              " * @fileoverview Helpers for google.colab Python module.\n",
              " */\n",
              "(function(scope) {\n",
              "function span(text, styleAttributes = {}) {\n",
              "  const element = document.createElement('span');\n",
              "  element.textContent = text;\n",
              "  for (const key of Object.keys(styleAttributes)) {\n",
              "    element.style[key] = styleAttributes[key];\n",
              "  }\n",
              "  return element;\n",
              "}\n",
              "\n",
              "// Max number of bytes which will be uploaded at a time.\n",
              "const MAX_PAYLOAD_SIZE = 100 * 1024;\n",
              "\n",
              "function _uploadFiles(inputId, outputId) {\n",
              "  const steps = uploadFilesStep(inputId, outputId);\n",
              "  const outputElement = document.getElementById(outputId);\n",
              "  // Cache steps on the outputElement to make it available for the next call\n",
              "  // to uploadFilesContinue from Python.\n",
              "  outputElement.steps = steps;\n",
              "\n",
              "  return _uploadFilesContinue(outputId);\n",
              "}\n",
              "\n",
              "// This is roughly an async generator (not supported in the browser yet),\n",
              "// where there are multiple asynchronous steps and the Python side is going\n",
              "// to poll for completion of each step.\n",
              "// This uses a Promise to block the python side on completion of each step,\n",
              "// then passes the result of the previous step as the input to the next step.\n",
              "function _uploadFilesContinue(outputId) {\n",
              "  const outputElement = document.getElementById(outputId);\n",
              "  const steps = outputElement.steps;\n",
              "\n",
              "  const next = steps.next(outputElement.lastPromiseValue);\n",
              "  return Promise.resolve(next.value.promise).then((value) => {\n",
              "    // Cache the last promise value to make it available to the next\n",
              "    // step of the generator.\n",
              "    outputElement.lastPromiseValue = value;\n",
              "    return next.value.response;\n",
              "  });\n",
              "}\n",
              "\n",
              "/**\n",
              " * Generator function which is called between each async step of the upload\n",
              " * process.\n",
              " * @param {string} inputId Element ID of the input file picker element.\n",
              " * @param {string} outputId Element ID of the output display.\n",
              " * @return {!Iterable<!Object>} Iterable of next steps.\n",
              " */\n",
              "function* uploadFilesStep(inputId, outputId) {\n",
              "  const inputElement = document.getElementById(inputId);\n",
              "  inputElement.disabled = false;\n",
              "\n",
              "  const outputElement = document.getElementById(outputId);\n",
              "  outputElement.innerHTML = '';\n",
              "\n",
              "  const pickedPromise = new Promise((resolve) => {\n",
              "    inputElement.addEventListener('change', (e) => {\n",
              "      resolve(e.target.files);\n",
              "    });\n",
              "  });\n",
              "\n",
              "  const cancel = document.createElement('button');\n",
              "  inputElement.parentElement.appendChild(cancel);\n",
              "  cancel.textContent = 'Cancel upload';\n",
              "  const cancelPromise = new Promise((resolve) => {\n",
              "    cancel.onclick = () => {\n",
              "      resolve(null);\n",
              "    };\n",
              "  });\n",
              "\n",
              "  // Wait for the user to pick the files.\n",
              "  const files = yield {\n",
              "    promise: Promise.race([pickedPromise, cancelPromise]),\n",
              "    response: {\n",
              "      action: 'starting',\n",
              "    }\n",
              "  };\n",
              "\n",
              "  cancel.remove();\n",
              "\n",
              "  // Disable the input element since further picks are not allowed.\n",
              "  inputElement.disabled = true;\n",
              "\n",
              "  if (!files) {\n",
              "    return {\n",
              "      response: {\n",
              "        action: 'complete',\n",
              "      }\n",
              "    };\n",
              "  }\n",
              "\n",
              "  for (const file of files) {\n",
              "    const li = document.createElement('li');\n",
              "    li.append(span(file.name, {fontWeight: 'bold'}));\n",
              "    li.append(span(\n",
              "        `(${file.type || 'n/a'}) - ${file.size} bytes, ` +\n",
              "        `last modified: ${\n",
              "            file.lastModifiedDate ? file.lastModifiedDate.toLocaleDateString() :\n",
              "                                    'n/a'} - `));\n",
              "    const percent = span('0% done');\n",
              "    li.appendChild(percent);\n",
              "\n",
              "    outputElement.appendChild(li);\n",
              "\n",
              "    const fileDataPromise = new Promise((resolve) => {\n",
              "      const reader = new FileReader();\n",
              "      reader.onload = (e) => {\n",
              "        resolve(e.target.result);\n",
              "      };\n",
              "      reader.readAsArrayBuffer(file);\n",
              "    });\n",
              "    // Wait for the data to be ready.\n",
              "    let fileData = yield {\n",
              "      promise: fileDataPromise,\n",
              "      response: {\n",
              "        action: 'continue',\n",
              "      }\n",
              "    };\n",
              "\n",
              "    // Use a chunked sending to avoid message size limits. See b/62115660.\n",
              "    let position = 0;\n",
              "    do {\n",
              "      const length = Math.min(fileData.byteLength - position, MAX_PAYLOAD_SIZE);\n",
              "      const chunk = new Uint8Array(fileData, position, length);\n",
              "      position += length;\n",
              "\n",
              "      const base64 = btoa(String.fromCharCode.apply(null, chunk));\n",
              "      yield {\n",
              "        response: {\n",
              "          action: 'append',\n",
              "          file: file.name,\n",
              "          data: base64,\n",
              "        },\n",
              "      };\n",
              "\n",
              "      let percentDone = fileData.byteLength === 0 ?\n",
              "          100 :\n",
              "          Math.round((position / fileData.byteLength) * 100);\n",
              "      percent.textContent = `${percentDone}% done`;\n",
              "\n",
              "    } while (position < fileData.byteLength);\n",
              "  }\n",
              "\n",
              "  // All done.\n",
              "  yield {\n",
              "    response: {\n",
              "      action: 'complete',\n",
              "    }\n",
              "  };\n",
              "}\n",
              "\n",
              "scope.google = scope.google || {};\n",
              "scope.google.colab = scope.google.colab || {};\n",
              "scope.google.colab._files = {\n",
              "  _uploadFiles,\n",
              "  _uploadFilesContinue,\n",
              "};\n",
              "})(self);\n",
              "</script> "
            ]
          },
          "metadata": {}
        },
        {
          "output_type": "stream",
          "name": "stdout",
          "text": [
            "Saving drawing.png to drawing (2).png\n",
            "------------------------------\n",
            "> Image 1 of 1 - Prediction: ['Face']\n"
          ]
        }
      ]
    },
    {
      "cell_type": "markdown",
      "source": [
        "---\n",
        "\n",
        "> Please note that the main purpose of this notebook is to demonstrate the implementation of a WhiteBoard on the Google Colaboratory environment, rather than focusing on the classification model itself.\n",
        "\n",
        "This notebook serves as a demonstration of the WhiteBoard feature, showcasing its functionality within the Colaboratory environment. The emphasis is on the implementation of the WhiteBoard, not on the intricacies of the classification model itself."
      ],
      "metadata": {
        "id": "zK9zAc-WPxUj"
      }
    }
  ]
}